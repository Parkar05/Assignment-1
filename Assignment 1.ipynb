{
 "cells": [
  {
   "cell_type": "code",
   "execution_count": 71,
   "id": "84ea2624",
   "metadata": {},
   "outputs": [
    {
     "name": "stdout",
     "output_type": "stream",
     "text": [
      "Enter the value   :50\n",
      "The fibonacci series for given value is :\n",
      "1 1 2 3 5 8 13 21 34 "
     ]
    }
   ],
   "source": [
    "#Write a Python program to get the Fibonacci series between 0 to 50\n",
    "value = int (input (\"Enter the value   :\"))\n",
    "a = 1\n",
    "b = 1\n",
    "print (\"The fibonacci series for given value is :\")\n",
    "for i in range ( a, value+1):\n",
    "    i = a + b\n",
    "    print (a , end= \" \")\n",
    "    a=b\n",
    "    b=i\n",
    "    if a > 50:\n",
    "        break"
   ]
  },
  {
   "cell_type": "code",
   "execution_count": 51,
   "id": "02493bbd",
   "metadata": {},
   "outputs": [
    {
     "name": "stdout",
     "output_type": "stream",
     "text": [
      "Enter the name :Mohammed ali\n",
      "The original string is : Mohammed ali\n",
      "The reversed string is : ila demmahoM\n"
     ]
    }
   ],
   "source": [
    "#Write a Python program that accepts a word from the user and reverse it.\n",
    "\n",
    " \n",
    "a = input (\"Enter the name :\")\n",
    "def reverse(a):\n",
    "    str = \"\"\n",
    "    for i in a:\n",
    "        str = i + str\n",
    "    return str\n",
    " \n",
    " \n",
    "print(\"The original string is : \", end=\"\")\n",
    "print(a)\n",
    " \n",
    "print(\"The reversed string is : \", end=\"\")\n",
    "print(reverse(a))"
   ]
  },
  {
   "cell_type": "code",
   "execution_count": 73,
   "id": "a867101d",
   "metadata": {},
   "outputs": [
    {
     "name": "stdout",
     "output_type": "stream",
     "text": [
      "Enter the word you need to reverse :Mohammed Ali\n",
      "ilA demmahoM\n"
     ]
    }
   ],
   "source": [
    "#Write a Python program that accepts a word from the user and reverse it.\n",
    "word = input(\"Enter the word you need to reverse :\")\n",
    "rev_word = word[-1::-1]\n",
    "print(rev_word)"
   ]
  },
  {
   "cell_type": "code",
   "execution_count": 74,
   "id": "14b5eb83",
   "metadata": {},
   "outputs": [
    {
     "name": "stdout",
     "output_type": "stream",
     "text": [
      "total odd numbers are  4\n",
      "total even numbers are 5\n"
     ]
    }
   ],
   "source": [
    "#Write a Python program to count the number of even and odd numbers from a series of numbers.\n",
    "\n",
    "lst = [1,2,3,4,5,6,7,8,9]\n",
    "odd = 0\n",
    "even = 0\n",
    "for i in lst:\n",
    "    if i%2==0:\n",
    "        odd = odd+1\n",
    "    else:    \n",
    "        even = even+1\n",
    "    \n",
    "print(\"total odd numbers are \",odd)\n",
    "print(\"total even numbers are\",even)"
   ]
  }
 ],
 "metadata": {
  "kernelspec": {
   "display_name": "Python 3 (ipykernel)",
   "language": "python",
   "name": "python3"
  },
  "language_info": {
   "codemirror_mode": {
    "name": "ipython",
    "version": 3
   },
   "file_extension": ".py",
   "mimetype": "text/x-python",
   "name": "python",
   "nbconvert_exporter": "python",
   "pygments_lexer": "ipython3",
   "version": "3.9.12"
  }
 },
 "nbformat": 4,
 "nbformat_minor": 5
}
